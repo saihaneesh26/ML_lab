{
 "cells": [
  {
   "cell_type": "code",
   "execution_count": 2,
   "id": "linear-chapter",
   "metadata": {},
   "outputs": [],
   "source": [
    "import pandas as pd\n",
    "import numpy as np\n",
    "from sklearn.preprocessing import StandardScaler"
   ]
  },
  {
   "cell_type": "code",
   "execution_count": 83,
   "id": "hairy-michael",
   "metadata": {},
   "outputs": [],
   "source": [
    "df = pd.read_csv(\"diabetes.csv\")"
   ]
  },
  {
   "cell_type": "code",
   "execution_count": 84,
   "id": "cathedral-competition",
   "metadata": {},
   "outputs": [],
   "source": [
    "df = df.dropna()"
   ]
  },
  {
   "cell_type": "code",
   "execution_count": 85,
   "id": "religious-publisher",
   "metadata": {},
   "outputs": [
    {
     "data": {
      "text/plain": [
       "Index(['Pregnancies', 'Glucose', 'BloodPressure', 'SkinThickness', 'Insulin',\n",
       "       'BMI', 'DiabetesPedigreeFunction', 'Age', 'Outcome'],\n",
       "      dtype='object')"
      ]
     },
     "execution_count": 85,
     "metadata": {},
     "output_type": "execute_result"
    }
   ],
   "source": [
    "df.columns"
   ]
  },
  {
   "cell_type": "code",
   "execution_count": 86,
   "id": "institutional-theta",
   "metadata": {},
   "outputs": [],
   "source": [
    "Y = df['Outcome']"
   ]
  },
  {
   "cell_type": "code",
   "execution_count": 87,
   "id": "twelve-spell",
   "metadata": {},
   "outputs": [],
   "source": [
    "X = df.iloc[:,:-1]"
   ]
  },
  {
   "cell_type": "code",
   "execution_count": 88,
   "id": "double-heater",
   "metadata": {},
   "outputs": [],
   "source": [
    "df =  pd.DataFrame(scaler.fit_transform(X),\n",
    "        columns=['Pregnancies', 'Glucose', 'BloodPressure', 'SkinThickness', 'Insulin',\n",
    "       'BMI', 'DiabetesPedigreeFunction', 'Age'])"
   ]
  },
  {
   "cell_type": "code",
   "execution_count": 89,
   "id": "active-craps",
   "metadata": {},
   "outputs": [
    {
     "data": {
      "text/html": [
       "<div>\n",
       "<style scoped>\n",
       "    .dataframe tbody tr th:only-of-type {\n",
       "        vertical-align: middle;\n",
       "    }\n",
       "\n",
       "    .dataframe tbody tr th {\n",
       "        vertical-align: top;\n",
       "    }\n",
       "\n",
       "    .dataframe thead th {\n",
       "        text-align: right;\n",
       "    }\n",
       "</style>\n",
       "<table border=\"1\" class=\"dataframe\">\n",
       "  <thead>\n",
       "    <tr style=\"text-align: right;\">\n",
       "      <th></th>\n",
       "      <th>Pregnancies</th>\n",
       "      <th>Glucose</th>\n",
       "      <th>BloodPressure</th>\n",
       "      <th>SkinThickness</th>\n",
       "      <th>Insulin</th>\n",
       "      <th>BMI</th>\n",
       "      <th>DiabetesPedigreeFunction</th>\n",
       "      <th>Age</th>\n",
       "    </tr>\n",
       "  </thead>\n",
       "  <tbody>\n",
       "    <tr>\n",
       "      <th>0</th>\n",
       "      <td>0.634065</td>\n",
       "      <td>0.831628</td>\n",
       "      <td>0.137981</td>\n",
       "      <td>0.898196</td>\n",
       "      <td>-0.694509</td>\n",
       "      <td>0.197413</td>\n",
       "      <td>0.471658</td>\n",
       "      <td>1.417418</td>\n",
       "    </tr>\n",
       "    <tr>\n",
       "      <th>1</th>\n",
       "      <td>-0.849279</td>\n",
       "      <td>-1.121984</td>\n",
       "      <td>-0.180568</td>\n",
       "      <td>0.522184</td>\n",
       "      <td>-0.694509</td>\n",
       "      <td>-0.706810</td>\n",
       "      <td>-0.370597</td>\n",
       "      <td>-0.195486</td>\n",
       "    </tr>\n",
       "    <tr>\n",
       "      <th>2</th>\n",
       "      <td>1.227402</td>\n",
       "      <td>1.916968</td>\n",
       "      <td>-0.286751</td>\n",
       "      <td>-1.295211</td>\n",
       "      <td>-0.694509</td>\n",
       "      <td>-1.133086</td>\n",
       "      <td>0.608983</td>\n",
       "      <td>-0.110596</td>\n",
       "    </tr>\n",
       "    <tr>\n",
       "      <th>3</th>\n",
       "      <td>-0.849279</td>\n",
       "      <td>-0.997945</td>\n",
       "      <td>-0.180568</td>\n",
       "      <td>0.146171</td>\n",
       "      <td>0.114192</td>\n",
       "      <td>-0.513048</td>\n",
       "      <td>-0.932100</td>\n",
       "      <td>-1.044383</td>\n",
       "    </tr>\n",
       "    <tr>\n",
       "      <th>4</th>\n",
       "      <td>-0.255942</td>\n",
       "      <td>-1.339052</td>\n",
       "      <td>-1.030031</td>\n",
       "      <td>0.710190</td>\n",
       "      <td>0.062573</td>\n",
       "      <td>-0.138441</td>\n",
       "      <td>-0.684917</td>\n",
       "      <td>-0.619934</td>\n",
       "    </tr>\n",
       "    <tr>\n",
       "      <th>...</th>\n",
       "      <td>...</td>\n",
       "      <td>...</td>\n",
       "      <td>...</td>\n",
       "      <td>...</td>\n",
       "      <td>...</td>\n",
       "      <td>...</td>\n",
       "      <td>...</td>\n",
       "      <td>...</td>\n",
       "    </tr>\n",
       "    <tr>\n",
       "      <th>738</th>\n",
       "      <td>1.524071</td>\n",
       "      <td>1.513842</td>\n",
       "      <td>0.244164</td>\n",
       "      <td>0.647521</td>\n",
       "      <td>-0.694509</td>\n",
       "      <td>1.540830</td>\n",
       "      <td>-0.211911</td>\n",
       "      <td>0.823190</td>\n",
       "    </tr>\n",
       "    <tr>\n",
       "      <th>739</th>\n",
       "      <td>1.524071</td>\n",
       "      <td>-0.997945</td>\n",
       "      <td>-0.392934</td>\n",
       "      <td>-1.295211</td>\n",
       "      <td>-0.694509</td>\n",
       "      <td>-1.236426</td>\n",
       "      <td>-1.008391</td>\n",
       "      <td>-0.025707</td>\n",
       "    </tr>\n",
       "    <tr>\n",
       "      <th>740</th>\n",
       "      <td>1.820740</td>\n",
       "      <td>-0.625829</td>\n",
       "      <td>0.350346</td>\n",
       "      <td>1.712890</td>\n",
       "      <td>0.854068</td>\n",
       "      <td>0.106991</td>\n",
       "      <td>-0.919894</td>\n",
       "      <td>2.520983</td>\n",
       "    </tr>\n",
       "    <tr>\n",
       "      <th>741</th>\n",
       "      <td>0.337396</td>\n",
       "      <td>-0.005634</td>\n",
       "      <td>0.137981</td>\n",
       "      <td>0.146171</td>\n",
       "      <td>0.269050</td>\n",
       "      <td>-0.758480</td>\n",
       "      <td>-0.694072</td>\n",
       "      <td>-0.280376</td>\n",
       "    </tr>\n",
       "    <tr>\n",
       "      <th>742</th>\n",
       "      <td>-0.849279</td>\n",
       "      <td>0.149414</td>\n",
       "      <td>-0.499117</td>\n",
       "      <td>-1.295211</td>\n",
       "      <td>-0.694509</td>\n",
       "      <td>-0.254698</td>\n",
       "      <td>-0.376700</td>\n",
       "      <td>1.162749</td>\n",
       "    </tr>\n",
       "  </tbody>\n",
       "</table>\n",
       "<p>743 rows × 8 columns</p>\n",
       "</div>"
      ],
      "text/plain": [
       "     Pregnancies   Glucose  BloodPressure  SkinThickness   Insulin       BMI  \\\n",
       "0       0.634065  0.831628       0.137981       0.898196 -0.694509  0.197413   \n",
       "1      -0.849279 -1.121984      -0.180568       0.522184 -0.694509 -0.706810   \n",
       "2       1.227402  1.916968      -0.286751      -1.295211 -0.694509 -1.133086   \n",
       "3      -0.849279 -0.997945      -0.180568       0.146171  0.114192 -0.513048   \n",
       "4      -0.255942 -1.339052      -1.030031       0.710190  0.062573 -0.138441   \n",
       "..           ...       ...            ...            ...       ...       ...   \n",
       "738     1.524071  1.513842       0.244164       0.647521 -0.694509  1.540830   \n",
       "739     1.524071 -0.997945      -0.392934      -1.295211 -0.694509 -1.236426   \n",
       "740     1.820740 -0.625829       0.350346       1.712890  0.854068  0.106991   \n",
       "741     0.337396 -0.005634       0.137981       0.146171  0.269050 -0.758480   \n",
       "742    -0.849279  0.149414      -0.499117      -1.295211 -0.694509 -0.254698   \n",
       "\n",
       "     DiabetesPedigreeFunction       Age  \n",
       "0                    0.471658  1.417418  \n",
       "1                   -0.370597 -0.195486  \n",
       "2                    0.608983 -0.110596  \n",
       "3                   -0.932100 -1.044383  \n",
       "4                   -0.684917 -0.619934  \n",
       "..                        ...       ...  \n",
       "738                 -0.211911  0.823190  \n",
       "739                 -1.008391 -0.025707  \n",
       "740                 -0.919894  2.520983  \n",
       "741                 -0.694072 -0.280376  \n",
       "742                 -0.376700  1.162749  \n",
       "\n",
       "[743 rows x 8 columns]"
      ]
     },
     "execution_count": 89,
     "metadata": {},
     "output_type": "execute_result"
    }
   ],
   "source": [
    "df"
   ]
  },
  {
   "cell_type": "code",
   "execution_count": 90,
   "id": "prime-cloud",
   "metadata": {},
   "outputs": [
    {
     "name": "stdout",
     "output_type": "stream",
     "text": [
      "X_train = (495, 8), X_test = (248, 8), y_train = (495,), y_test = (248,)\n"
     ]
    }
   ],
   "source": [
    "from sklearn.model_selection import train_test_split\n",
    "X_train,X_test,y_train,y_test = train_test_split(df.to_numpy(),Y,test_size=1/3,random_state=42, stratify=Y)\n",
    "\n",
    "print(\"X_train = {}, X_test = {}, y_train = {}, y_test = {}\".format(X_train.shape, X_test.shape, y_train.shape, y_test.shape))"
   ]
  },
  {
   "cell_type": "code",
   "execution_count": 114,
   "id": "disciplinary-boulder",
   "metadata": {},
   "outputs": [],
   "source": [
    "from scipy.stats import mode\n",
    "class KNNmodel:\n",
    "    def euclidean(self,v1,v2):\n",
    "        dist = np.sqrt(np.sum((v1-v2)**2))\n",
    "        return dist\n",
    "    def fit(self,X_train,Y_train):\n",
    "        self.X_train = np.array(X_train)\n",
    "        self.Y_train = np.array(Y_train)\n",
    "    def predict(self,X_test,k):\n",
    "        predicted_outcomes = []\n",
    "        for v2 in X_test:\n",
    "            distances = np.array([self.euclidean(v1,v2) for v1 in self.X_train])\n",
    "            dist = np.argsort(distances)[:k]\n",
    "            labels = np.array([self.Y_train[a] for a in dist])\n",
    "            label = mode(labels)[0]\n",
    "            predicted_outcomes.append(label)\n",
    "        return predicted_outcomes        "
   ]
  },
  {
   "cell_type": "code",
   "execution_count": 144,
   "id": "binary-sport",
   "metadata": {},
   "outputs": [
    {
     "name": "stdout",
     "output_type": "stream",
     "text": [
      "For k = 1\n",
      " 0.7338709677419355\n",
      "For k = 2\n",
      " 0.7338709677419355\n",
      "For k = 3\n",
      " 0.7298387096774194\n",
      "For k = 4\n",
      " 0.7016129032258065\n",
      "For k = 5\n",
      " 0.7298387096774194\n",
      "For k = 6\n",
      " 0.7379032258064516\n",
      "For k = 7\n",
      " 0.7379032258064516\n",
      "For k = 8\n",
      " 0.7258064516129032\n",
      "For k = 9\n",
      " 0.7459677419354839\n",
      "For k = 10\n",
      " 0.7459677419354839\n",
      "For k = 11\n",
      " 0.7661290322580645\n",
      "For k = 12\n",
      " 0.75\n",
      "For k = 13\n",
      " 0.7741935483870968\n",
      "For k = 14\n",
      " 0.7540322580645161\n",
      "For k = 15\n",
      " 0.7661290322580645\n",
      "For k = 16\n",
      " 0.7661290322580645\n",
      "For k = 17\n",
      " 0.7580645161290323\n",
      "For k = 18\n",
      " 0.7620967741935484\n",
      "For k = 19\n",
      " 0.7620967741935484\n"
     ]
    }
   ],
   "source": [
    "from sklearn.metrics import classification_report, accuracy_score\n",
    "knn = KNNmodel()\n",
    "knn.fit(X_train,y_train)\n",
    "accuracy_scores = []\n",
    "for k in range(1,20):\n",
    "  predicted_vals = knn.predict(np.array(X_test), k)\n",
    "  accuracy = accuracy_score(y_test, predicted_vals)\n",
    "  accuracy_scores.append(accuracy)\n",
    "  # report = classification_report(y_test, predicted_vals)\n",
    "  print(\"For k = {}\\n\".format(k), accuracy)"
   ]
  },
  {
   "cell_type": "code",
   "execution_count": 145,
   "id": "infinite-hunger",
   "metadata": {},
   "outputs": [
    {
     "name": "stderr",
     "output_type": "stream",
     "text": [
      "/usr/local/lib/python3.6/dist-packages/seaborn/_decorators.py:43: FutureWarning: Pass the following variables as keyword args: x, y. From version 0.12, the only valid positional argument will be `data`, and passing other arguments without an explicit keyword will result in an error or misinterpretation.\n",
      "  FutureWarning\n"
     ]
    },
    {
     "data": {
      "image/png": "[encoded data removed]",
      "text/plain": [
       "<Figure size 864x360 with 1 Axes>"
      ]
     },
     "metadata": {
      "needs_background": "light"
     },
     "output_type": "display_data"
    }
   ],
   "source": [
    "import seaborn as sns\n",
    "import matplotlib.pyplot as plt\n",
    "plt.figure(figsize=(12,5))\n",
    "p = sns.lineplot(range(1,20),accuracy_scores,marker='o',label='Test Accuracy Score')"
   ]
  },
  {
   "cell_type": "code",
   "execution_count": 120,
   "id": "unable-proceeding",
   "metadata": {},
   "outputs": [],
   "source": [
    "from sklearn.neighbors import KNeighborsClassifier"
   ]
  },
  {
   "cell_type": "code",
   "execution_count": 148,
   "id": "acoustic-preservation",
   "metadata": {},
   "outputs": [
    {
     "name": "stdout",
     "output_type": "stream",
     "text": [
      "For k = 1\n",
      " 0.7338709677419355\n",
      "For k = 2\n",
      " 0.7338709677419355\n",
      "For k = 3\n",
      " 0.7298387096774194\n",
      "For k = 4\n",
      " 0.7016129032258065\n",
      "For k = 5\n",
      " 0.7298387096774194\n",
      "For k = 6\n",
      " 0.7379032258064516\n",
      "For k = 7\n",
      " 0.7379032258064516\n",
      "For k = 8\n",
      " 0.7258064516129032\n",
      "For k = 9\n",
      " 0.7459677419354839\n",
      "For k = 10\n",
      " 0.7459677419354839\n",
      "For k = 11\n",
      " 0.7661290322580645\n",
      "For k = 12\n",
      " 0.75\n",
      "For k = 13\n",
      " 0.7741935483870968\n",
      "For k = 14\n",
      " 0.7540322580645161\n",
      "For k = 15\n",
      " 0.7661290322580645\n",
      "For k = 16\n",
      " 0.7661290322580645\n",
      "For k = 17\n",
      " 0.7580645161290323\n",
      "For k = 18\n",
      " 0.7620967741935484\n",
      "For k = 19\n",
      " 0.7620967741935484\n"
     ]
    }
   ],
   "source": [
    "accuracy_scores_inbuilt = []\n",
    "for k in range(1,20):\n",
    "    model = KNeighborsClassifier(n_neighbors=k)\n",
    "    model.fit(X_train,y_train)\n",
    "    pred = model.predict(X_test)\n",
    "    accuracy = accuracy_score(y_test,pred)\n",
    "    accuracy_scores_inbuilt.append(accuracy)\n",
    "    print(\"For k = {}\\n\".format(k),accuracy)"
   ]
  },
  {
   "cell_type": "code",
   "execution_count": 149,
   "id": "handy-federation",
   "metadata": {},
   "outputs": [
    {
     "name": "stderr",
     "output_type": "stream",
     "text": [
      "/usr/local/lib/python3.6/dist-packages/seaborn/_decorators.py:43: FutureWarning: Pass the following variables as keyword args: x, y. From version 0.12, the only valid positional argument will be `data`, and passing other arguments without an explicit keyword will result in an error or misinterpretation.\n",
      "  FutureWarning\n"
     ]
    },
    {
     "data": {
      "image/png": "[encoded data removed]",
      "text/plain": [
       "<Figure size 864x360 with 1 Axes>"
      ]
     },
     "metadata": {
      "needs_background": "light"
     },
     "output_type": "display_data"
    }
   ],
   "source": [
    "plt.figure(figsize=(12,5))\n",
    "p = sns.lineplot(range(1,20),accuracy_scores_inbuilt,marker='o',label='Test Accuracy Score')"
   ]
  },
  {
   "cell_type": "code",
   "execution_count": null,
   "id": "concrete-kidney",
   "metadata": {},
   "outputs": [],
   "source": []
  }
 ],
 "metadata": {
  "kernelspec": {
   "display_name": "Python 3",
   "language": "python",
   "name": "python3"
  },
  "language_info": {
   "codemirror_mode": {
    "name": "ipython",
    "version": 3
   },
   "file_extension": ".py",
   "mimetype": "text/x-python",
   "name": "python",
   "nbconvert_exporter": "python",
   "pygments_lexer": "ipython3",
   "version": "3.6.9"
  }
 },
 "nbformat": 4,
 "nbformat_minor": 5
}
