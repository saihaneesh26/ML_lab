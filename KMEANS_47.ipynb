{
 "cells": [
  {
   "cell_type": "code",
   "execution_count": 1,
   "id": "detailed-living",
   "metadata": {},
   "outputs": [],
   "source": [
    "from sklearn.cluster import KMeans"
   ]
  },
  {
   "cell_type": "code",
   "execution_count": 2,
   "id": "saving-ceremony",
   "metadata": {},
   "outputs": [],
   "source": [
    "from sklearn.datasets import make_blobs"
   ]
  },
  {
   "cell_type": "code",
   "execution_count": 3,
   "id": "injured-russian",
   "metadata": {},
   "outputs": [],
   "source": [
    "X,Y = make_blobs(centers= 3, n_samples = 20, n_features = 2)"
   ]
  },
  {
   "cell_type": "code",
   "execution_count": 4,
   "id": "oriental-joseph",
   "metadata": {},
   "outputs": [
    {
     "data": {
      "text/plain": [
       "array([[ 1.15166839,  0.98509919],\n",
       "       [-3.8056708 ,  1.84683181],\n",
       "       [-2.7472003 ,  8.57287448],\n",
       "       [-4.05980679,  0.05852793],\n",
       "       [-4.29327366,  0.31674494],\n",
       "       [-2.71444579,  8.96001816],\n",
       "       [-0.44132803,  7.2887804 ],\n",
       "       [ 0.03509591,  2.94149555],\n",
       "       [-0.21007691,  4.76584707],\n",
       "       [-2.09910008,  5.83383824],\n",
       "       [ 1.69026765,  4.23887069],\n",
       "       [ 0.61758668,  4.48215849],\n",
       "       [-2.57975137,  8.82871653],\n",
       "       [-3.53874001,  2.09884325],\n",
       "       [-2.44656909,  8.78231366],\n",
       "       [-4.19117213, -0.23127951],\n",
       "       [-1.69537885,  8.99293077],\n",
       "       [-4.82124895, -0.51028706],\n",
       "       [ 0.65806724,  3.48309256],\n",
       "       [-4.62450896,  0.46537738]])"
      ]
     },
     "execution_count": 4,
     "metadata": {},
     "output_type": "execute_result"
    }
   ],
   "source": [
    "X"
   ]
  },
  {
   "cell_type": "code",
   "execution_count": 5,
   "id": "global-robertson",
   "metadata": {},
   "outputs": [
    {
     "data": {
      "text/plain": [
       "array([2, 0, 1, 0, 0, 1, 1, 2, 2, 1, 2, 2, 1, 0, 1, 0, 1, 0, 2, 0])"
      ]
     },
     "execution_count": 5,
     "metadata": {},
     "output_type": "execute_result"
    }
   ],
   "source": [
    "Y"
   ]
  },
  {
   "cell_type": "code",
   "execution_count": 6,
   "id": "reported-deviation",
   "metadata": {},
   "outputs": [],
   "source": [
    "import matplotlib.pyplot as plt"
   ]
  },
  {
   "cell_type": "code",
   "execution_count": 8,
   "id": "visible-alloy",
   "metadata": {},
   "outputs": [
    {
     "data": {
      "text/plain": [
       "<matplotlib.collections.PathCollection at 0x7f55b3c53cf8>"
      ]
     },
     "execution_count": 8,
     "metadata": {},
     "output_type": "execute_result"
    },
    {
     "data": {
      "image/png": "[encoded data removed]",
      "text/plain": [
       "<Figure size 432x288 with 1 Axes>"
      ]
     },
     "metadata": {
      "needs_background": "light"
     },
     "output_type": "display_data"
    }
   ],
   "source": [
    "plt.scatter(X[:,0],X[:,1])"
   ]
  },
  {
   "cell_type": "code",
   "execution_count": 10,
   "id": "pending-ceremony",
   "metadata": {},
   "outputs": [
    {
     "data": {
      "text/plain": [
       "KMeans(n_clusters=3)"
      ]
     },
     "execution_count": 10,
     "metadata": {},
     "output_type": "execute_result"
    }
   ],
   "source": [
    "model = KMeans(n_clusters=3)\n",
    "model.fit(X)"
   ]
  },
  {
   "cell_type": "code",
   "execution_count": 11,
   "id": "invalid-hypothesis",
   "metadata": {},
   "outputs": [],
   "source": [
    "centers = model.cluster_centers_"
   ]
  },
  {
   "cell_type": "code",
   "execution_count": 12,
   "id": "casual-detail",
   "metadata": {},
   "outputs": [
    {
     "data": {
      "text/plain": [
       "array([[-2.10339622,  8.17992461],\n",
       "       [-4.19063161,  0.57782268],\n",
       "       [ 0.65710149,  3.48276059]])"
      ]
     },
     "execution_count": 12,
     "metadata": {},
     "output_type": "execute_result"
    }
   ],
   "source": [
    "centers"
   ]
  },
  {
   "cell_type": "code",
   "execution_count": 15,
   "id": "painful-garlic",
   "metadata": {},
   "outputs": [
    {
     "data": {
      "text/plain": [
       "<matplotlib.collections.PathCollection at 0x7f55b3b48898>"
      ]
     },
     "execution_count": 15,
     "metadata": {},
     "output_type": "execute_result"
    },
    {
     "data": {
      "image/png": "[encoded data removed]",
      "text/plain": [
       "<Figure size 432x288 with 1 Axes>"
      ]
     },
     "metadata": {
      "needs_background": "light"
     },
     "output_type": "display_data"
    }
   ],
   "source": [
    "plt.scatter(X[:,0],X[:,1],c='blue')\n",
    "plt.scatter(centers[:,0],centers[:,1],c='orange')"
   ]
  },
  {
   "cell_type": "code",
   "execution_count": 18,
   "id": "double-forest",
   "metadata": {},
   "outputs": [],
   "source": [
    "labels = model.labels_"
   ]
  },
  {
   "cell_type": "code",
   "execution_count": 19,
   "id": "incorrect-stationery",
   "metadata": {},
   "outputs": [
    {
     "data": {
      "text/plain": [
       "array([2, 1, 0, 1, 1, 0, 0, 2, 2, 0, 2, 2, 0, 1, 0, 1, 0, 1, 2, 1],\n",
       "      dtype=int32)"
      ]
     },
     "execution_count": 19,
     "metadata": {},
     "output_type": "execute_result"
    }
   ],
   "source": [
    "labels"
   ]
  },
  {
   "cell_type": "code",
   "execution_count": 21,
   "id": "ceramic-rings",
   "metadata": {},
   "outputs": [
    {
     "data": {
      "image/png": "[encoded data removed]",
      "text/plain": [
       "<Figure size 432x288 with 1 Axes>"
      ]
     },
     "metadata": {
      "needs_background": "light"
     },
     "output_type": "display_data"
    }
   ],
   "source": [
    "colors = ['orange','blue','green']\n",
    "for i in range(len(X)):\n",
    "    plt.scatter(X[i,0],X[i,1],c=colors[labels[i]])\n",
    "plt.scatter(centers[:,0],centers[:,1],c='red')\n",
    "plt.show()"
   ]
  },
  {
   "cell_type": "code",
   "execution_count": null,
   "id": "great-piano",
   "metadata": {},
   "outputs": [],
   "source": []
  }
 ],
 "metadata": {
  "kernelspec": {
   "display_name": "Python 3",
   "language": "python",
   "name": "python3"
  },
  "language_info": {
   "codemirror_mode": {
    "name": "ipython",
    "version": 3
   },
   "file_extension": ".py",
   "mimetype": "text/x-python",
   "name": "python",
   "nbconvert_exporter": "python",
   "pygments_lexer": "ipython3",
   "version": "3.6.9"
  }
 },
 "nbformat": 4,
 "nbformat_minor": 5
}
